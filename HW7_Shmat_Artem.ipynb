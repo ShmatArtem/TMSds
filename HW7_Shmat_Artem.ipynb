{
  "nbformat": 4,
  "nbformat_minor": 0,
  "metadata": {
    "colab": {
      "provenance": []
    },
    "kernelspec": {
      "name": "python3",
      "display_name": "Python 3"
    },
    "language_info": {
      "name": "python"
    }
  },
  "cells": [
    {
      "cell_type": "code",
      "execution_count": null,
      "metadata": {
        "id": "AxK0P2VHNvW4"
      },
      "outputs": [],
      "source": [
        "# Задание 1\n",
        "class Money:\n",
        "\n",
        "  def __init__(self, rubles = 0, coins = 0 ):\n",
        "    self.__rubles = int(rubles)\n",
        "    self.__coins = int(coins)\n",
        "    self.total = self.__rubles + self.__coins / 100\n",
        "\n",
        "  def set_rubles(self, rubles):\n",
        "    self.__rubles = rubles\n",
        "    self.total = self.__rubles + self.__coins / 100\n",
        "\n",
        "  def set_coins(self, coins):\n",
        "    self.__coins = coins\n",
        "    self.total = self.__rubles + self.__coins / 100\n",
        "\n",
        "  @property\n",
        "  def get_rubles(self):\n",
        "    return self.__rubles\n",
        "\n",
        "  @property\n",
        "  def get_coins(self):\n",
        "    return self.__coins\n",
        "\n",
        "  @property\n",
        "  def get_total(self):\n",
        "    return self.__rubles + self.__coins / 100\n",
        "\n",
        "  def add(self, second_number):\n",
        "    return self.total + second_number\n",
        "\n",
        "  def deduct(self, second_number):\n",
        "    return self.total - second_number\n",
        "\n",
        "  def multiply(self, second_number):\n",
        "    return self.total * second_number\n",
        "\n",
        "  def devide(self, second_number):\n",
        "    return self.total / second_number\n",
        "\n",
        "  def is_equal(self, second_number):\n",
        "    if self.total == second_number: return True\n",
        "    else: return False\n",
        "\n",
        "  def is_greater(self, second_number):\n",
        "    if self.total > second_number: return True\n",
        "    else: return False\n",
        "\n",
        "  def is_less(self, second_number):\n",
        "    if self.total < second_number: return True\n",
        "    else: return False\n",
        "\n",
        "num = Money()\n",
        "num.set_rubles(10)\n",
        "num.set_coins(50)\n",
        "\n",
        "print(num.get_total)\n",
        "print(num.add(10))\n",
        "print(num.deduct(10))\n",
        "print(num.multiply(2))\n",
        "print(num.devide(5))\n",
        "print(num.is_equal(10.5))\n",
        "print(num.is_greater(10.4))\n",
        "print(num.is_less(2))\n",
        "\n",
        "print(num.get_rubles)\n",
        "print(num.get_coins)\n",
        "num.get_total\n",
        "\n",
        "\n"
      ]
    },
    {
      "cell_type": "code",
      "source": [
        "# Задание 2\n",
        "import numpy as np\n",
        "\n",
        "class Matrix:\n",
        "\n",
        "  def __init__(self, i = 0, j = 0):\n",
        "    self.i = i\n",
        "    self.j = j\n",
        "\n",
        "  def create_eye_matrix(self, i, j):\n",
        "    return np.eye(i,j)\n",
        "\n",
        "  def add_matrix(self, another_matrix):\n",
        "    return self + another_matrix\n",
        "\n",
        "a = Matrix()\n",
        "\n",
        "a = np.array([[1,2,3,4],[5,6,7,8],[9,10,11,12],[13,14,15,16]])\n",
        "\n",
        "type(a)\n"
      ],
      "metadata": {
        "colab": {
          "base_uri": "https://localhost:8080/"
        },
        "id": "B7hjVeZmbcsF",
        "outputId": "1d9cd1bd-7637-4439-df91-8515e91db535"
      },
      "execution_count": 95,
      "outputs": [
        {
          "output_type": "execute_result",
          "data": {
            "text/plain": [
              "numpy.ndarray"
            ]
          },
          "metadata": {},
          "execution_count": 95
        }
      ]
    },
    {
      "cell_type": "code",
      "source": [
        "import numpy as np\n",
        "\n",
        "class Matrix:\n",
        "\n",
        "  def __init__(self, matrix):\n",
        "    self.matrix = matrix\n",
        "    self.i = matrix.shape[0]\n",
        "    self.j = matrix.shape[1]\n",
        "\n",
        "  def add(self, another_matrix):\n",
        "    if self.i == another_matrix.i and self.j == another_matrix.j:\n",
        "      return np.add(self.matrix, another_matrix.matrix)\n",
        "    else: return \"Матрицы имеют разные размерности\"\n",
        "\n",
        "  def multiply(self, second_var):\n",
        "    if second_var is int or float:\n",
        "      return self.matrix * second_var\n",
        "    else: return \"Аргументом может быть только число\"\n",
        "\n",
        "a = np.array([[1,2,3],[5,6,7],[9,10,11]])\n",
        "b = np.array([[1,2,3],[5,6,7],[9,10,11]])\n",
        "\n",
        "test_a = Matrix(a)\n",
        "test_b = Matrix(b)\n",
        "\n",
        "test_a.add(test_b)\n",
        "test_a.multiply(1.5)\n",
        "\n"
      ],
      "metadata": {
        "colab": {
          "base_uri": "https://localhost:8080/"
        },
        "id": "fvx7UgGzhiyE",
        "outputId": "685fa874-7187-4944-af9d-4de0825b8d92"
      },
      "execution_count": 18,
      "outputs": [
        {
          "output_type": "execute_result",
          "data": {
            "text/plain": [
              "array([[ 1.5,  3. ,  4.5],\n",
              "       [ 7.5,  9. , 10.5],\n",
              "       [13.5, 15. , 16.5]])"
            ]
          },
          "metadata": {},
          "execution_count": 18
        }
      ]
    }
  ]
}