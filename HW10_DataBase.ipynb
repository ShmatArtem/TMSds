{
  "nbformat": 4,
  "nbformat_minor": 0,
  "metadata": {
    "colab": {
      "provenance": []
    },
    "kernelspec": {
      "name": "python3",
      "display_name": "Python 3"
    },
    "language_info": {
      "name": "python"
    }
  },
  "cells": [
    {
      "cell_type": "code",
      "execution_count": 1,
      "metadata": {
        "colab": {
          "base_uri": "https://localhost:8080/"
        },
        "id": "mDicJWjZvab6",
        "outputId": "8bb800bb-ba31-4ec5-f5dc-969056ecd365"
      },
      "outputs": [
        {
          "output_type": "stream",
          "name": "stdout",
          "text": [
            "Requirement already satisfied: sqlalchemy in /usr/local/lib/python3.10/dist-packages (2.0.27)\n",
            "Requirement already satisfied: typing-extensions>=4.6.0 in /usr/local/lib/python3.10/dist-packages (from sqlalchemy) (4.10.0)\n",
            "Requirement already satisfied: greenlet!=0.4.17 in /usr/local/lib/python3.10/dist-packages (from sqlalchemy) (3.0.3)\n"
          ]
        }
      ],
      "source": [
        "!pip install sqlalchemy"
      ]
    },
    {
      "cell_type": "code",
      "source": [
        "import sqlalchemy as db"
      ],
      "metadata": {
        "id": "W6afT0OSv3HT"
      },
      "execution_count": 2,
      "outputs": []
    },
    {
      "cell_type": "code",
      "source": [
        "engine = db.create_engine('sqlite:///Flights')"
      ],
      "metadata": {
        "id": "KD47AMVoxBIl"
      },
      "execution_count": 3,
      "outputs": []
    },
    {
      "cell_type": "code",
      "source": [
        "conn = engine.connect()"
      ],
      "metadata": {
        "id": "wd2LMXwXyzpO"
      },
      "execution_count": 4,
      "outputs": []
    },
    {
      "cell_type": "code",
      "source": [
        "metadata = db.MetaData()"
      ],
      "metadata": {
        "id": "cJwq40Ckzpvn"
      },
      "execution_count": 5,
      "outputs": []
    },
    {
      "cell_type": "markdown",
      "source": [
        "![схема бд.PNG](data:image/png;base64,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)"
      ],
      "metadata": {
        "id": "tdCmMlPqDTE4"
      }
    },
    {
      "cell_type": "markdown",
      "source": [
        "Создаём таблицы (схема БД выше)"
      ],
      "metadata": {
        "id": "7G5DPqv6AzHi"
      }
    },
    {
      "cell_type": "code",
      "source": [
        "trip = db.Table(\n",
        "    'Trip', metadata,\n",
        "    db.Column('id', db.Integer, primiry_key = True),\n",
        "    db.Column('company', db.Integer, db.ForeignKey('Company.id')),\n",
        "    db.Column('plane', db.VARCHAR),\n",
        "    db.Column('town_from', db.VARCHAR),\n",
        "    db.Column('town_to', db.VARCHAR)\n",
        ")\n",
        "trip"
      ],
      "metadata": {
        "colab": {
          "base_uri": "https://localhost:8080/"
        },
        "id": "8OAl4T3Vz402",
        "outputId": "ae1a2154-d698-4bdb-be16-d380b7b23596"
      },
      "execution_count": 6,
      "outputs": [
        {
          "output_type": "stream",
          "name": "stderr",
          "text": [
            "<ipython-input-6-6bd92121bd52>:3: SAWarning: Can't validate argument 'primiry_key'; can't locate any SQLAlchemy dialect named 'primiry'\n",
            "  db.Column('id', db.Integer, primiry_key = True),\n"
          ]
        },
        {
          "output_type": "execute_result",
          "data": {
            "text/plain": [
              "Table('Trip', MetaData(), Column('id', Integer(), table=<Trip>), Column('company', Integer(), ForeignKey('Company.id'), table=<Trip>), Column('plane', VARCHAR(), table=<Trip>), Column('town_from', VARCHAR(), table=<Trip>), Column('town_to', VARCHAR(), table=<Trip>), schema=None)"
            ]
          },
          "metadata": {},
          "execution_count": 6
        }
      ]
    },
    {
      "cell_type": "code",
      "source": [
        "company = db.Table(\n",
        "    'Company', metadata,\n",
        "    db.Column('id', db.Integer, primary_key = True, autoincrement = True),\n",
        "    db.Column('name', db.VARCHAR)\n",
        ")\n",
        "company"
      ],
      "metadata": {
        "colab": {
          "base_uri": "https://localhost:8080/"
        },
        "id": "4iRfkbDy15vM",
        "outputId": "d902cc2e-8794-450a-b75a-b2f5fc3d0ef7"
      },
      "execution_count": 7,
      "outputs": [
        {
          "output_type": "execute_result",
          "data": {
            "text/plain": [
              "Table('Company', MetaData(), Column('id', Integer(), table=<Company>, primary_key=True, nullable=False), Column('name', VARCHAR(), table=<Company>), schema=None)"
            ]
          },
          "metadata": {},
          "execution_count": 7
        }
      ]
    },
    {
      "cell_type": "code",
      "source": [
        "pass_in_trip = db.Table(\n",
        "    'Pass_in_trip', metadata,\n",
        "    db.Column('id', db.Integer, primary_key = True, autoincrement = True),\n",
        "    db.Column('trip', db.Integer, db.ForeignKey('Trip.id')),\n",
        "    db.Column('passenger', db.Integer, db.ForeignKey('Passenger.id')),\n",
        "    db.Column('place', db.VARCHAR)\n",
        ")\n",
        "pass_in_trip"
      ],
      "metadata": {
        "colab": {
          "base_uri": "https://localhost:8080/"
        },
        "id": "BdzEiUir2mqy",
        "outputId": "530407ca-658e-454c-a999-b3ea081debf2"
      },
      "execution_count": 8,
      "outputs": [
        {
          "output_type": "execute_result",
          "data": {
            "text/plain": [
              "Table('Pass_in_trip', MetaData(), Column('id', Integer(), table=<Pass_in_trip>, primary_key=True, nullable=False), Column('trip', Integer(), ForeignKey('Trip.id'), table=<Pass_in_trip>), Column('passenger', Integer(), ForeignKey('Passenger.id'), table=<Pass_in_trip>), Column('place', VARCHAR(), table=<Pass_in_trip>), schema=None)"
            ]
          },
          "metadata": {},
          "execution_count": 8
        }
      ]
    },
    {
      "cell_type": "code",
      "source": [
        "passenger = db.Table(\n",
        "    'Passenger', metadata,\n",
        "    db.Column('id', db.Integer, primary_key = True, autoincrement = True),\n",
        "    db.Column('name', db.VARCHAR)\n",
        ")\n",
        "passenger"
      ],
      "metadata": {
        "colab": {
          "base_uri": "https://localhost:8080/"
        },
        "id": "QqGn5_Hc3T5c",
        "outputId": "00286528-e670-43c3-8e28-60acd1779d15"
      },
      "execution_count": 9,
      "outputs": [
        {
          "output_type": "execute_result",
          "data": {
            "text/plain": [
              "Table('Passenger', MetaData(), Column('id', Integer(), table=<Passenger>, primary_key=True, nullable=False), Column('name', VARCHAR(), table=<Passenger>), schema=None)"
            ]
          },
          "metadata": {},
          "execution_count": 9
        }
      ]
    },
    {
      "cell_type": "code",
      "source": [
        "metadata.create_all(engine)"
      ],
      "metadata": {
        "id": "av7kLYrF36f7"
      },
      "execution_count": 10,
      "outputs": []
    },
    {
      "cell_type": "markdown",
      "source": [
        "Наполняем таблицы данными"
      ],
      "metadata": {
        "id": "5rSGo_kTA3fp"
      }
    },
    {
      "cell_type": "code",
      "source": [
        "insertion_company = company.insert().values([{'name': 'Aeroflot'}, {'name': 'Belavia'}, {'name': 'Ryanair'}])\n",
        "\n",
        "insertion_passenger = passenger.insert().values(\n",
        "    [{'name': 'Ivanov'},\n",
        "     {'name': 'Smirnov'},\n",
        "     {'name': 'Sobolev'}])\n",
        "\n",
        "insertion_trip = trip.insert().values(\n",
        "    [{'id': 1, 'company': 1, 'plane': 'TU-176', 'town_from': 'Moscow', 'town_to': 'Donetsck'},\n",
        "     {'id': 2, 'company': 2, 'plane': 'Boeing', 'town_from': 'Minsk', 'town_to': 'Berlin'},\n",
        "     {'id': 3, 'company': 3, 'plane': 'Boeing', 'town_from': 'London', 'town_to': 'Praha'}])\n",
        "\n",
        "insertion_pass_in_trip = pass_in_trip.insert().values(\n",
        "    [{'trip': 1, 'passenger' : 1, 'place' : '28A'},\n",
        "     {'trip': 2, 'passenger' : 2, 'place' : '37C'},\n",
        "     {'trip': 3, 'passenger' : 3, 'place' : '1B'}])"
      ],
      "metadata": {
        "id": "xe1PxSZi8Nll"
      },
      "execution_count": 11,
      "outputs": []
    },
    {
      "cell_type": "code",
      "source": [
        "conn.execute(insertion_company)"
      ],
      "metadata": {
        "colab": {
          "base_uri": "https://localhost:8080/"
        },
        "id": "WccGkXyV_4Rf",
        "outputId": "1a4048f0-b9f7-4a2a-c362-601f20c7f581"
      },
      "execution_count": 12,
      "outputs": [
        {
          "output_type": "execute_result",
          "data": {
            "text/plain": [
              "<sqlalchemy.engine.cursor.CursorResult at 0x78156e324b80>"
            ]
          },
          "metadata": {},
          "execution_count": 12
        }
      ]
    },
    {
      "cell_type": "code",
      "source": [
        "conn.execute(insertion_passenger)"
      ],
      "metadata": {
        "colab": {
          "base_uri": "https://localhost:8080/"
        },
        "id": "m3H8EMKRAY1j",
        "outputId": "62721706-971b-4563-f8e6-09a8455b8736"
      },
      "execution_count": 13,
      "outputs": [
        {
          "output_type": "execute_result",
          "data": {
            "text/plain": [
              "<sqlalchemy.engine.cursor.CursorResult at 0x78156e324dc0>"
            ]
          },
          "metadata": {},
          "execution_count": 13
        }
      ]
    },
    {
      "cell_type": "code",
      "source": [
        "conn.execute(insertion_trip)"
      ],
      "metadata": {
        "colab": {
          "base_uri": "https://localhost:8080/"
        },
        "id": "-ONXR_PVAfd0",
        "outputId": "4f7f01ac-f756-47d5-8dd2-98b6985b90c1"
      },
      "execution_count": 14,
      "outputs": [
        {
          "output_type": "execute_result",
          "data": {
            "text/plain": [
              "<sqlalchemy.engine.cursor.CursorResult at 0x78156e324760>"
            ]
          },
          "metadata": {},
          "execution_count": 14
        }
      ]
    },
    {
      "cell_type": "code",
      "source": [
        "conn.execute(insertion_pass_in_trip)"
      ],
      "metadata": {
        "colab": {
          "base_uri": "https://localhost:8080/"
        },
        "id": "t3jptJFaAi41",
        "outputId": "cd200cf2-f6e4-4a3e-ff2c-22b190d78fa8"
      },
      "execution_count": 15,
      "outputs": [
        {
          "output_type": "execute_result",
          "data": {
            "text/plain": [
              "<sqlalchemy.engine.cursor.CursorResult at 0x78156e3261a0>"
            ]
          },
          "metadata": {},
          "execution_count": 15
        }
      ]
    },
    {
      "cell_type": "markdown",
      "source": [
        "Формируем запросы"
      ],
      "metadata": {
        "id": "8CQSsEpXA_RU"
      }
    },
    {
      "cell_type": "code",
      "source": [
        "select_all = db.select(trip)\n",
        "select_all_result = conn.execute(select_all)\n",
        "select_all_result"
      ],
      "metadata": {
        "colab": {
          "base_uri": "https://localhost:8080/"
        },
        "id": "xRwBw71WBB0a",
        "outputId": "17fd0a74-900b-4646-9626-28a04c9a418c"
      },
      "execution_count": 16,
      "outputs": [
        {
          "output_type": "execute_result",
          "data": {
            "text/plain": [
              "<sqlalchemy.engine.cursor.CursorResult at 0x78156e3c0160>"
            ]
          },
          "metadata": {},
          "execution_count": 16
        }
      ]
    },
    {
      "cell_type": "code",
      "source": [
        "select_all_result.fetchall()"
      ],
      "metadata": {
        "colab": {
          "base_uri": "https://localhost:8080/"
        },
        "id": "jIB62dikBjv8",
        "outputId": "50e56f4f-ee28-4b40-caef-179331fea721"
      },
      "execution_count": 17,
      "outputs": [
        {
          "output_type": "execute_result",
          "data": {
            "text/plain": [
              "[(1, 1, 'TU-176', 'Moscow', 'Donetsck'),\n",
              " (2, 2, 'Boeing', 'Minsk', 'Berlin'),\n",
              " (3, 3, 'Boeing', 'London', 'Praha')]"
            ]
          },
          "metadata": {},
          "execution_count": 17
        }
      ]
    },
    {
      "cell_type": "markdown",
      "source": [
        "HAVING (вывести группы с названиями самолётов 'plane', в которых больше одной записи, и кол-во записей в них)"
      ],
      "metadata": {
        "id": "cvE9LBLuEyHq"
      }
    },
    {
      "cell_type": "code",
      "source": [
        "select_having = db.select(trip.c.plane, db.func.count()).group_by('plane').having(db.func.count() > 1)\n",
        "select_having_result = conn.execute(select_having)\n"
      ],
      "metadata": {
        "id": "_dZMyzUcE3jd"
      },
      "execution_count": 18,
      "outputs": []
    },
    {
      "cell_type": "code",
      "source": [],
      "metadata": {
        "id": "e_Ywv-i1SEde"
      },
      "execution_count": null,
      "outputs": []
    },
    {
      "cell_type": "code",
      "source": [
        "select_having_result.fetchall()"
      ],
      "metadata": {
        "colab": {
          "base_uri": "https://localhost:8080/"
        },
        "id": "sDVn6lIFF16q",
        "outputId": "f8bf67d5-cb8f-46c2-8bbd-a4cf635727db"
      },
      "execution_count": 19,
      "outputs": [
        {
          "output_type": "execute_result",
          "data": {
            "text/plain": [
              "[('Boeing', 2)]"
            ]
          },
          "metadata": {},
          "execution_count": 19
        }
      ]
    },
    {
      "cell_type": "markdown",
      "source": [
        "Coming soon...\n"
      ],
      "metadata": {
        "id": "VVw4uvwGG4kT"
      }
    }
  ]
}