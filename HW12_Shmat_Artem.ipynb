{
  "nbformat": 4,
  "nbformat_minor": 0,
  "metadata": {
    "colab": {
      "provenance": []
    },
    "kernelspec": {
      "name": "python3",
      "display_name": "Python 3"
    },
    "language_info": {
      "name": "python"
    }
  },
  "cells": [
    {
      "cell_type": "code",
      "execution_count": 2,
      "metadata": {
        "id": "wydywEKzyMmx"
      },
      "outputs": [],
      "source": [
        "import numpy as np\n",
        "from scipy.special import perm, comb, factorial"
      ]
    },
    {
      "cell_type": "markdown",
      "source": [
        "Комбинаторика"
      ],
      "metadata": {
        "id": "ynDmVw3nIQzc"
      }
    },
    {
      "cell_type": "code",
      "source": [
        "# Task 1\n",
        "perm(30,3)"
      ],
      "metadata": {
        "colab": {
          "base_uri": "https://localhost:8080/"
        },
        "id": "3gpJcprRySdb",
        "outputId": "af754fb6-f4fd-4ae6-81d9-b13bb3a1bbe9"
      },
      "execution_count": 6,
      "outputs": [
        {
          "output_type": "execute_result",
          "data": {
            "text/plain": [
              "24360.0"
            ]
          },
          "metadata": {},
          "execution_count": 6
        }
      ]
    },
    {
      "cell_type": "code",
      "source": [
        "# Task 2\n",
        "2**10"
      ],
      "metadata": {
        "colab": {
          "base_uri": "https://localhost:8080/"
        },
        "id": "rFZcGlrsy7il",
        "outputId": "31ce39c9-bf4a-48c0-e1c8-aa2ac34588e0"
      },
      "execution_count": 7,
      "outputs": [
        {
          "output_type": "execute_result",
          "data": {
            "text/plain": [
              "1024"
            ]
          },
          "metadata": {},
          "execution_count": 7
        }
      ]
    },
    {
      "cell_type": "code",
      "source": [
        "# Task 3\n",
        "30 + 50"
      ],
      "metadata": {
        "colab": {
          "base_uri": "https://localhost:8080/"
        },
        "id": "GKguqu9k_FGM",
        "outputId": "ed0e5cd3-8895-43b8-a5ab-2a1fd8ebef3d"
      },
      "execution_count": 12,
      "outputs": [
        {
          "output_type": "execute_result",
          "data": {
            "text/plain": [
              "80"
            ]
          },
          "metadata": {},
          "execution_count": 12
        }
      ]
    },
    {
      "cell_type": "code",
      "source": [
        "# Task 5\n",
        "factorial(7)"
      ],
      "metadata": {
        "colab": {
          "base_uri": "https://localhost:8080/"
        },
        "id": "beNqMFMpFAGz",
        "outputId": "6839dcfc-22ff-46b4-fba1-6cb6bced747d"
      },
      "execution_count": 13,
      "outputs": [
        {
          "output_type": "execute_result",
          "data": {
            "text/plain": [
              "5040.0"
            ]
          },
          "metadata": {},
          "execution_count": 13
        }
      ]
    },
    {
      "cell_type": "code",
      "source": [
        "# Task 6\n",
        "10**5"
      ],
      "metadata": {
        "colab": {
          "base_uri": "https://localhost:8080/"
        },
        "id": "Wvu6SAaAFOs4",
        "outputId": "7e9a0856-4308-469e-e6a5-1ad9e1bfb2be"
      },
      "execution_count": 16,
      "outputs": [
        {
          "output_type": "execute_result",
          "data": {
            "text/plain": [
              "100000"
            ]
          },
          "metadata": {},
          "execution_count": 16
        }
      ]
    },
    {
      "cell_type": "code",
      "source": [
        "# Task 7\n",
        "(16*16-16)/2"
      ],
      "metadata": {
        "colab": {
          "base_uri": "https://localhost:8080/"
        },
        "id": "muajRaHdF7FS",
        "outputId": "37b5ab86-d8a9-4e64-f895-113dbe54ba37"
      },
      "execution_count": 17,
      "outputs": [
        {
          "output_type": "execute_result",
          "data": {
            "text/plain": [
              "120.0"
            ]
          },
          "metadata": {},
          "execution_count": 17
        }
      ]
    },
    {
      "cell_type": "code",
      "source": [
        "# Task 8\n",
        "comb(10,5,repetition=True)"
      ],
      "metadata": {
        "colab": {
          "base_uri": "https://localhost:8080/"
        },
        "id": "JzQNeKV0GUuU",
        "outputId": "3b6ee502-7135-4981-e328-710db9c4e733"
      },
      "execution_count": 18,
      "outputs": [
        {
          "output_type": "execute_result",
          "data": {
            "text/plain": [
              "2002.0"
            ]
          },
          "metadata": {},
          "execution_count": 18
        }
      ]
    },
    {
      "cell_type": "code",
      "source": [
        "# Task 9\n",
        "comb(5,2)"
      ],
      "metadata": {
        "colab": {
          "base_uri": "https://localhost:8080/"
        },
        "id": "o8u0IRrLTTvn",
        "outputId": "01dadd0c-0dac-4940-b0ff-a36bf3c0202a"
      },
      "execution_count": 16,
      "outputs": [
        {
          "output_type": "execute_result",
          "data": {
            "text/plain": [
              "10.0"
            ]
          },
          "metadata": {},
          "execution_count": 16
        }
      ]
    },
    {
      "cell_type": "code",
      "source": [
        "# Task 10-12 (unsolved)"
      ],
      "metadata": {
        "id": "memGCAncT9EN"
      },
      "execution_count": null,
      "outputs": []
    },
    {
      "cell_type": "markdown",
      "source": [
        " Классическая вероятностная модель. Геометрическая вероятность"
      ],
      "metadata": {
        "id": "ItZoqbzyIUiD"
      }
    },
    {
      "cell_type": "code",
      "source": [
        "# Task 1\n",
        "comb(5,3)/comb(9,3)"
      ],
      "metadata": {
        "colab": {
          "base_uri": "https://localhost:8080/"
        },
        "id": "RKlL1CF0IY5V",
        "outputId": "130dad3b-8bb3-4c4a-a598-635bc109f842"
      },
      "execution_count": 4,
      "outputs": [
        {
          "output_type": "execute_result",
          "data": {
            "text/plain": [
              "0.11904761904761904"
            ]
          },
          "metadata": {},
          "execution_count": 4
        }
      ]
    },
    {
      "cell_type": "code",
      "source": [
        "# Task 2\n",
        "all_variants = 10**3\n",
        "favorable = comb(10,1)*comb(9,1)*comb(8,1)\n",
        "\n",
        "1 - favorable / all_variants"
      ],
      "metadata": {
        "colab": {
          "base_uri": "https://localhost:8080/"
        },
        "id": "6fx7Zd28JItG",
        "outputId": "fbe0ba4d-77c5-4933-e77a-f5c9e9d0a5e5"
      },
      "execution_count": 12,
      "outputs": [
        {
          "output_type": "execute_result",
          "data": {
            "text/plain": [
              "0.28"
            ]
          },
          "metadata": {},
          "execution_count": 12
        }
      ]
    },
    {
      "cell_type": "code",
      "source": [
        "# Task 3 (to be added)\n",
        "all = comb(9,1) * (comb(10,1) ** 7)"
      ],
      "metadata": {
        "colab": {
          "base_uri": "https://localhost:8080/"
        },
        "id": "Rtq5QxbMSlaN",
        "outputId": "9ac52027-875d-443e-c34e-087ee722abd4"
      },
      "execution_count": 15,
      "outputs": [
        {
          "output_type": "execute_result",
          "data": {
            "text/plain": [
              "90000000.0"
            ]
          },
          "metadata": {},
          "execution_count": 15
        }
      ]
    },
    {
      "cell_type": "code",
      "source": [
        "# Task 4 (unsolved)"
      ],
      "metadata": {
        "colab": {
          "base_uri": "https://localhost:8080/"
        },
        "id": "8dpTi0r9TKIP",
        "outputId": "1b8bd3a4-a7ed-4dad-c090-59cab5bbe1f1"
      },
      "execution_count": 19,
      "outputs": [
        {
          "output_type": "execute_result",
          "data": {
            "text/plain": [
              "0.262144"
            ]
          },
          "metadata": {},
          "execution_count": 19
        }
      ]
    },
    {
      "cell_type": "markdown",
      "source": [
        "Основные формулы теории вероятностей"
      ],
      "metadata": {
        "id": "64ek5ohsXBz2"
      }
    },
    {
      "cell_type": "code",
      "source": [
        "# Task 1\n",
        "red = (10/15) * (9/14)\n",
        "blue = (5/15) * (4/14)\n",
        "red + blue"
      ],
      "metadata": {
        "colab": {
          "base_uri": "https://localhost:8080/"
        },
        "id": "kVc5br5BXFmK",
        "outputId": "0c584237-0dc7-4cca-d21c-82dda4fae912"
      },
      "execution_count": 25,
      "outputs": [
        {
          "output_type": "execute_result",
          "data": {
            "text/plain": [
              "0.5238095238095238"
            ]
          },
          "metadata": {},
          "execution_count": 25
        }
      ]
    },
    {
      "cell_type": "code",
      "source": [
        "# Task 2\n",
        "eng = 0.28\n",
        "ger = 0.3\n",
        "fra = 0.42\n",
        "\n",
        "eng_ger = 0.08\n",
        "eng_fra = 0.1\n",
        "ger_fra = 0.05\n",
        "\n",
        "eng_ger_fra = 0.03\n",
        "\n",
        "# Part A\n",
        "a = eng + ger\n",
        "\n",
        "# Part B\n",
        "b = eng * (ger + fra)\n",
        "\n",
        "# Part C\n",
        "c = 1 - eng - fra - ger\n",
        "\n",
        "print(a,b,c)"
      ],
      "metadata": {
        "colab": {
          "base_uri": "https://localhost:8080/"
        },
        "id": "kG31MS_SYbHL",
        "outputId": "d6e2a662-d777-440a-cf14-e4118572692a"
      },
      "execution_count": 26,
      "outputs": [
        {
          "output_type": "stream",
          "name": "stdout",
          "text": [
            "0.5800000000000001 0.2016 0.0\n"
          ]
        }
      ]
    },
    {
      "cell_type": "code",
      "source": [
        "# Task 3\n",
        "# Возможные исходы: ДД, ММ\n",
        "# Благоприятные исходы: ММ\n",
        "1/2"
      ],
      "metadata": {
        "colab": {
          "base_uri": "https://localhost:8080/"
        },
        "id": "hswTAXMncJ2x",
        "outputId": "8e8359b2-2dc5-4533-830a-56f34aab9f9e"
      },
      "execution_count": 27,
      "outputs": [
        {
          "output_type": "execute_result",
          "data": {
            "text/plain": [
              "0.5"
            ]
          },
          "metadata": {},
          "execution_count": 27
        }
      ]
    }
  ]
}