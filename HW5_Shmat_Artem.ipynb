{
  "nbformat": 4,
  "nbformat_minor": 0,
  "metadata": {
    "colab": {
      "provenance": []
    },
    "kernelspec": {
      "name": "python3",
      "display_name": "Python 3"
    },
    "language_info": {
      "name": "python"
    }
  },
  "cells": [
    {
      "cell_type": "code",
      "execution_count": 12,
      "metadata": {
        "colab": {
          "base_uri": "https://localhost:8080/"
        },
        "id": "CAVBgaiXAdOL",
        "outputId": "669d5423-0f84-4842-98f2-1866c6c4e546"
      },
      "outputs": [
        {
          "output_type": "execute_result",
          "data": {
            "text/plain": [
              "['Just', 'have', 'done', 'it']"
            ]
          },
          "metadata": {},
          "execution_count": 12
        }
      ],
      "source": [
        "# Задача 1\n",
        "str_test = \"Just have done it!\"\n",
        "list_final = []\n",
        "\n",
        "def slice_func(string):\n",
        "\n",
        "  start_index = 0\n",
        "\n",
        "  for i, char in enumerate(string):\n",
        "    if char == ' ':\n",
        "      list_final.append(string[start_index : i])\n",
        "      start_index = i + 1\n",
        "\n",
        "  if string[-1] in '.!?':\n",
        "    list_final.append(string[start_index : -1])\n",
        "  else:\n",
        "    list_final.append(string[start_index : ])\n",
        "\n",
        "  return list_final\n",
        "\n",
        "slice_func(str_test)"
      ]
    },
    {
      "cell_type": "code",
      "source": [
        "# Задача 2\n",
        "import math\n",
        "\n",
        "time_natan = 5\n",
        "\n",
        "def water_func(time):\n",
        "\n",
        "  water_vol = time * 0.5\n",
        "\n",
        "  return f\"Натану необходимо выпить {math.floor(water_vol)} литра(ов) воды\"\n",
        "\n",
        "water_func(time_natan)"
      ],
      "metadata": {
        "colab": {
          "base_uri": "https://localhost:8080/",
          "height": 36
        },
        "id": "fDRCLuwnJJOs",
        "outputId": "811be50f-879b-4bc1-afb8-5d2ae23433c8"
      },
      "execution_count": 37,
      "outputs": [
        {
          "output_type": "execute_result",
          "data": {
            "text/plain": [
              "'Натану необходимо выпить 2 литра(ов) воды'"
            ],
            "application/vnd.google.colaboratory.intrinsic+json": {
              "type": "string"
            }
          },
          "metadata": {},
          "execution_count": 37
        }
      ]
    },
    {
      "cell_type": "code",
      "source": [
        "# Задача 3\n",
        "lst = []\n",
        "\n",
        "def int_func(num):\n",
        "\n",
        "  for i in range(1, num + 1):\n",
        "    lst.append(i)\n",
        "    lst.sort(reverse = True)\n",
        "\n",
        "  return lst\n",
        "\n",
        "int_func(10)"
      ],
      "metadata": {
        "colab": {
          "base_uri": "https://localhost:8080/"
        },
        "id": "exo3Nl23LJfh",
        "outputId": "0c0c82e5-31ef-4e39-d479-d4843feca759"
      },
      "execution_count": 29,
      "outputs": [
        {
          "output_type": "execute_result",
          "data": {
            "text/plain": [
              "[10, 9, 8, 7, 6, 5, 4, 3, 2, 1]"
            ]
          },
          "metadata": {},
          "execution_count": 29
        }
      ]
    },
    {
      "cell_type": "code",
      "source": [
        "# Задача 4\n",
        "import math\n",
        "\n",
        "year_test = 2024\n",
        "\n",
        "def century_func(year):\n",
        "\n",
        "  century = year / 100\n",
        "\n",
        "  return f\"{math.ceil(century)} век Н.Э.\"\n",
        "\n",
        "century_func(year_test)"
      ],
      "metadata": {
        "colab": {
          "base_uri": "https://localhost:8080/",
          "height": 36
        },
        "id": "U9YZuPvLNvaG",
        "outputId": "e8d995d6-e4af-47b3-e8b6-413757c048f5"
      },
      "execution_count": 38,
      "outputs": [
        {
          "output_type": "execute_result",
          "data": {
            "text/plain": [
              "'21 век Н.Э.'"
            ],
            "application/vnd.google.colaboratory.intrinsic+json": {
              "type": "string"
            }
          },
          "metadata": {},
          "execution_count": 38
        }
      ]
    },
    {
      "cell_type": "code",
      "source": [
        "# Задача 5\n",
        "test_num = 123456789\n",
        "lst = []\n",
        "\n",
        "def num_func(num):\n",
        "\n",
        "  for i in str(num)[::-1]:\n",
        "    lst.append(int(i))\n",
        "\n",
        "  return lst\n",
        "\n",
        "num_func(test_num)"
      ],
      "metadata": {
        "colab": {
          "base_uri": "https://localhost:8080/"
        },
        "id": "XDTsaPuKQarI",
        "outputId": "8a742cb9-c857-45a6-fe89-b59db9b19b1d"
      },
      "execution_count": 41,
      "outputs": [
        {
          "output_type": "execute_result",
          "data": {
            "text/plain": [
              "[9, 8, 7, 6, 5, 4, 3, 2, 1]"
            ]
          },
          "metadata": {},
          "execution_count": 41
        }
      ]
    },
    {
      "cell_type": "code",
      "source": [
        "# Задача с трансляции\n",
        "n = 6\n",
        "matrix = []\n",
        "\n",
        "\n",
        "def matrix_func(size):\n",
        "\n",
        "  counter = 10 # First int in matrix\n",
        "\n",
        "  for el in range(size):\n",
        "\n",
        "    el = []\n",
        "\n",
        "    for num in range(1, size + 1):\n",
        "       el.append(counter)\n",
        "       counter += 1\n",
        "\n",
        "    matrix.append(el)\n",
        "\n",
        "  return matrix\n",
        "\n",
        "\n",
        "matrix_func(n)"
      ],
      "metadata": {
        "colab": {
          "base_uri": "https://localhost:8080/"
        },
        "id": "6-Zpn8r8SGxT",
        "outputId": "dfba8c25-1e54-48b0-c892-2f8088a7a125"
      },
      "execution_count": 58,
      "outputs": [
        {
          "output_type": "execute_result",
          "data": {
            "text/plain": [
              "[[10, 11, 12, 13, 14, 15],\n",
              " [16, 17, 18, 19, 20, 21],\n",
              " [22, 23, 24, 25, 26, 27],\n",
              " [28, 29, 30, 31, 32, 33],\n",
              " [34, 35, 36, 37, 38, 39],\n",
              " [40, 41, 42, 43, 44, 45]]"
            ]
          },
          "metadata": {},
          "execution_count": 58
        }
      ]
    },
    {
      "cell_type": "code",
      "source": [
        "# Задача 6 (схема 2)\n",
        "n = 5\n",
        "matrix = []\n",
        "\n",
        "def matrix_side(size):\n",
        "\n",
        "  counter = 1\n",
        "\n",
        "  for i in range(size):\n",
        "     temp = []\n",
        "     for j in range(size):\n",
        "       temp.append(counter)\n",
        "       counter += 1\n",
        "     matrix.append(temp)\n",
        "     if i % 2 == 1:\n",
        "      temp.sort(reverse = True)\n",
        "\n",
        "  return matrix\n",
        "\n",
        "matrix_side(n)"
      ],
      "metadata": {
        "colab": {
          "base_uri": "https://localhost:8080/"
        },
        "id": "9pp-6ALknctk",
        "outputId": "4b1d8dfb-04ab-4110-b2d9-baf950ce3bb7"
      },
      "execution_count": 105,
      "outputs": [
        {
          "output_type": "execute_result",
          "data": {
            "text/plain": [
              "[[1, 2, 3, 4, 5],\n",
              " [10, 9, 8, 7, 6],\n",
              " [11, 12, 13, 14, 15],\n",
              " [20, 19, 18, 17, 16],\n",
              " [21, 22, 23, 24, 25]]"
            ]
          },
          "metadata": {},
          "execution_count": 105
        }
      ]
    },
    {
      "cell_type": "code",
      "source": [
        "# Не работает\n",
        "n = 6\n",
        "matrix = []\n",
        "\n",
        "def matrix_down(size):\n",
        "\n",
        "  counter = 1\n",
        "\n",
        "  for i in range(size):\n",
        "     el = []\n",
        "     for j in range(1, size):\n",
        "      el.append(counter)\n",
        "      counter = counter + 1 + j*size\n",
        "     matrix.append(el)\n",
        "\n",
        "\n",
        "  return matrix\n",
        "\n",
        "matrix_down(n)"
      ],
      "metadata": {
        "colab": {
          "base_uri": "https://localhost:8080/"
        },
        "id": "-DURFmklw7Nw",
        "outputId": "92dd12dc-48f2-4aab-fb0a-c480551e2979"
      },
      "execution_count": 79,
      "outputs": [
        {
          "output_type": "execute_result",
          "data": {
            "text/plain": [
              "[[1, 8, 21, 40, 65],\n",
              " [96, 103, 116, 135, 160],\n",
              " [191, 198, 211, 230, 255],\n",
              " [286, 293, 306, 325, 350],\n",
              " [381, 388, 401, 420, 445],\n",
              " [476, 483, 496, 515, 540]]"
            ]
          },
          "metadata": {},
          "execution_count": 79
        }
      ]
    },
    {
      "cell_type": "code",
      "source": [
        "# Не работает\n",
        "n = 6\n",
        "matrix = []\n",
        "\n",
        "def matrix_down(size):\n",
        "\n",
        "  counter_for_0 = 1\n",
        "  counter_for_1 = 2\n",
        "\n",
        "  for i in range(size):\n",
        "     el = []\n",
        "     matrix.append(el)\n",
        "    #  el.append(counter)\n",
        "    #  counter = counter + 1\n",
        "\n",
        "  for index, value in enumerate(matrix):\n",
        "    if index % 2 == 0 or index == 0:\n",
        "      value.append(counter_for_0)\n",
        "      counter_for_0 += 2\n",
        "    else:\n",
        "      value.append(counter_for_1)\n",
        "      counter_for_1 += 2\n",
        "\n",
        "\n",
        "\n",
        "  return matrix\n",
        "\n",
        "matrix_down(n)"
      ],
      "metadata": {
        "colab": {
          "base_uri": "https://localhost:8080/"
        },
        "id": "lNpHGnSx7Tub",
        "outputId": "845700a3-7b8d-464c-a884-1b62440bf9e8"
      },
      "execution_count": 104,
      "outputs": [
        {
          "output_type": "execute_result",
          "data": {
            "text/plain": [
              "[[1], [2], [3], [4], [5], [6]]"
            ]
          },
          "metadata": {},
          "execution_count": 104
        }
      ]
    }
  ]
}