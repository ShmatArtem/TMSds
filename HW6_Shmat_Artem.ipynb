{
  "nbformat": 4,
  "nbformat_minor": 0,
  "metadata": {
    "colab": {
      "provenance": []
    },
    "kernelspec": {
      "name": "python3",
      "display_name": "Python 3"
    },
    "language_info": {
      "name": "python"
    }
  },
  "cells": [
    {
      "cell_type": "code",
      "execution_count": 47,
      "metadata": {
        "colab": {
          "base_uri": "https://localhost:8080/"
        },
        "id": "mSQG1Xlpwwep",
        "outputId": "f4036396-72b4-46f0-ba8c-e9fb48b8f09f"
      },
      "outputs": [
        {
          "output_type": "stream",
          "name": "stdout",
          "text": [
            "Минимальное значение в строке: -8. Максимальное значение в строке: 1000.1\n"
          ]
        }
      ],
      "source": [
        "# Задание 1\n",
        "str_test = '-8 -7 777.2 1.5 89 456 1000.1'\n",
        "\n",
        "def min_max_func(stroka):   # Я ещё не знал про метод split()...\n",
        "\n",
        "  temp_list = []\n",
        "  final_list = []\n",
        "  start_index = 0\n",
        "  first_space = stroka.find(' ')\n",
        "\n",
        "  for i, v in enumerate(stroka):\n",
        "    if i == first_space:\n",
        "      temp_list.append(stroka[:i])\n",
        "      start_index = i\n",
        "\n",
        "    elif v == ' ':\n",
        "      temp_list.append(stroka[(start_index + 1):i])\n",
        "      start_index = i\n",
        "\n",
        "  temp_list.append(stroka[(start_index + 1):])\n",
        "\n",
        "  for i in temp_list:\n",
        "    if '.' in i:\n",
        "      i = float(i)\n",
        "      final_list.append(i)\n",
        "    else:\n",
        "      i = int(i)\n",
        "      final_list.append(i)\n",
        "\n",
        "  min_num = min(final_list)\n",
        "  max_num = max(final_list)\n",
        "\n",
        "  return f\"\"\"Минимальное значение в строке: {min_num}. Максимальное значение в строке: {max_num}\"\"\"\n",
        "\n",
        "print(min_max_func(str_test))\n"
      ]
    },
    {
      "cell_type": "code",
      "source": [
        "# Задание 2\n",
        "test_pass = input(\"Введите пароль: \")\n",
        "\n",
        "def password_func(password):\n",
        "\n",
        "  try:\n",
        "    temp = int(password)\n",
        "  except ValueError:\n",
        "    return \"Пароль должен состоять только из цифр!\"\n",
        "\n",
        "  if len(password) != 4 and len(password) != 6:\n",
        "    return \"Пароль должен быть 4- или 6-значным!\"\n",
        "\n",
        "  else:\n",
        "    return \"Успех!\"\n",
        "\n",
        "print(password_func(test_pass))"
      ],
      "metadata": {
        "colab": {
          "base_uri": "https://localhost:8080/"
        },
        "id": "T5xO-v1o6nl9",
        "outputId": "a276cb48-65d6-4be5-a147-489b3cc551a5"
      },
      "execution_count": 87,
      "outputs": [
        {
          "output_type": "stream",
          "name": "stdout",
          "text": [
            "Введите пароль: 123456\n",
            "Успех!\n"
          ]
        }
      ]
    },
    {
      "cell_type": "code",
      "source": [
        "# Задание 3\n",
        "import math\n",
        "\n",
        "arr_test = [12, 25, 16, 8, 225, 0]\n",
        "\n",
        "def sqroot_func(arr):\n",
        "  final = []\n",
        "\n",
        "  for i in arr:\n",
        "    if math.modf(math.sqrt(i))[0] == 0:\n",
        "      final.append(i)\n",
        "  return final\n",
        "\n",
        "sqroot_func(arr_test)"
      ],
      "metadata": {
        "colab": {
          "base_uri": "https://localhost:8080/"
        },
        "id": "QNYKwd0PAD3A",
        "outputId": "ff5302d4-1111-4101-a7f1-aaa4be81f0b6"
      },
      "execution_count": 102,
      "outputs": [
        {
          "output_type": "execute_result",
          "data": {
            "text/plain": [
              "[25, 16, 225, 0]"
            ]
          },
          "metadata": {},
          "execution_count": 102
        }
      ]
    },
    {
      "cell_type": "code",
      "source": [
        "# Задание 4\n",
        "arr_test = [0, 'hello', 'hello', 12, 12, 12, 12, 12, True, True, 12.3, 12.3, True]\n",
        "\n",
        "def unique_in_order(arr):\n",
        "  new = []\n",
        "  for i, v in enumerate(arr):\n",
        "    if i != 0:\n",
        "      if v != arr[i - 1]:\n",
        "        new.append(arr[i - 1])\n",
        "  return new\n",
        "\n",
        "unique_in_order(arr_test)"
      ],
      "metadata": {
        "colab": {
          "base_uri": "https://localhost:8080/"
        },
        "id": "0HTWx-KLTx6H",
        "outputId": "4cfe1b86-cb91-4f32-a6a7-c807327f1c09"
      },
      "execution_count": 155,
      "outputs": [
        {
          "output_type": "execute_result",
          "data": {
            "text/plain": [
              "[0, 'hello', 12, True, 12.3]"
            ]
          },
          "metadata": {},
          "execution_count": 155
        }
      ]
    },
    {
      "cell_type": "code",
      "source": [
        "# Задание 5\n",
        "str_test = 'Просто, учитывая строку слов, верните длину самого короткого слова (слов). Строка никогда не будет пустой, и вам не нужно учитывать разные типы данных.'\n",
        "\n",
        "def word_func(text):\n",
        "  to_remove = \"!@#$%^&*()_+/.,,,,'*;:{]}<>|\"\n",
        "  min_len = 100\n",
        "\n",
        "  for simbol in to_remove:\n",
        "    if simbol in text:\n",
        "      text = text.replace(simbol, '')\n",
        "\n",
        "  text = text.split()\n",
        "\n",
        "  for word in text:\n",
        "    if len(word) < min_len:\n",
        "      min_len = len(word)\n",
        "      min_word = word\n",
        "\n",
        "  return f\"Самое короткое слово: '{min_word}', его длина: {min_len} символов(а).\"\n",
        "\n",
        "word_func(str_test)"
      ],
      "metadata": {
        "colab": {
          "base_uri": "https://localhost:8080/",
          "height": 36
        },
        "id": "4uvzngQWU1mj",
        "outputId": "21aaad79-50db-4936-bf22-7d05342d23af"
      },
      "execution_count": 197,
      "outputs": [
        {
          "output_type": "execute_result",
          "data": {
            "text/plain": [
              "\"Самое короткое слово: 'и', его длина: 1 символов(а).\""
            ],
            "application/vnd.google.colaboratory.intrinsic+json": {
              "type": "string"
            }
          },
          "metadata": {},
          "execution_count": 197
        }
      ]
    },
    {
      "cell_type": "code",
      "source": [
        "# Задание 6\n",
        "number = 1849494494489\n",
        "\n",
        "def recursion(num):\n",
        "\n",
        "    summa = 0\n",
        "\n",
        "    for n in str(num):\n",
        "      summa = int(n) + summa\n",
        "\n",
        "    if len(str(summa)) == 1:\n",
        "      return f\"Цифровой корень числа равен {summa}.\"\n",
        "\n",
        "\n",
        "    else:\n",
        "      end = recursion(summa)\n",
        "      return end\n",
        "\n",
        "recursion(number)\n"
      ],
      "metadata": {
        "colab": {
          "base_uri": "https://localhost:8080/",
          "height": 36
        },
        "id": "DKFrhldDlqdt",
        "outputId": "f17c31b1-243c-4631-8330-f25a90465274"
      },
      "execution_count": 230,
      "outputs": [
        {
          "output_type": "execute_result",
          "data": {
            "text/plain": [
              "'Цифровой корень числа равен 5.'"
            ],
            "application/vnd.google.colaboratory.intrinsic+json": {
              "type": "string"
            }
          },
          "metadata": {},
          "execution_count": 230
        }
      ]
    },
    {
      "cell_type": "code",
      "source": [
        "# Задача 7\n",
        "word_test = 'troop'\n",
        "\n",
        "def middle_func(word):\n",
        "\n",
        "  if len(word) % 2 == 0:\n",
        "\n",
        "    middle_1 = word[int((len(word) - 1) / 2)]\n",
        "    middle_2 = word[int((len(word) - 1) / 2) + 1]\n",
        "\n",
        "    return middle_1, middle_2\n",
        "\n",
        "  else:\n",
        "\n",
        "    middle =  word[int((len(word) - 1) / 2)]\n",
        "\n",
        "    return middle\n",
        "\n",
        "middle_func(word_test)"
      ],
      "metadata": {
        "colab": {
          "base_uri": "https://localhost:8080/",
          "height": 36
        },
        "id": "yyXkfEY2rnOM",
        "outputId": "b528d4d0-dcae-4d00-9b46-5310984db208"
      },
      "execution_count": 237,
      "outputs": [
        {
          "output_type": "execute_result",
          "data": {
            "text/plain": [
              "'o'"
            ],
            "application/vnd.google.colaboratory.intrinsic+json": {
              "type": "string"
            }
          },
          "metadata": {},
          "execution_count": 237
        }
      ]
    },
    {
      "cell_type": "code",
      "source": [
        "# Задача 8\n",
        "number = 95789955\n",
        "\n",
        "def prime_func(num):\n",
        "\n",
        "  devisors_list = []\n",
        "  potential_devisors = [2]\n",
        "\n",
        "  for i in range(3, int(num / 2) + 1):\n",
        "    if i % 2 != 0:\n",
        "      potential_devisors.append(i)\n",
        "\n",
        "  for devisor in potential_devisors:\n",
        "    if number % devisor == 0:\n",
        "      devisors_list.append(devisor)\n",
        "\n",
        "  if len(devisors_list) == 0:\n",
        "    return f\"{number} is a prime number.\"\n",
        "\n",
        "  else:\n",
        "    return f\"{number} is a composite number\"\n",
        "\n",
        "prime_func(number)\n"
      ],
      "metadata": {
        "colab": {
          "base_uri": "https://localhost:8080/",
          "height": 36
        },
        "id": "lzD4J4KlsyGm",
        "outputId": "5075b242-2ad1-4962-fd48-e15e1b45af34"
      },
      "execution_count": 4,
      "outputs": [
        {
          "output_type": "execute_result",
          "data": {
            "text/plain": [
              "'95789955 is a composite number'"
            ],
            "application/vnd.google.colaboratory.intrinsic+json": {
              "type": "string"
            }
          },
          "metadata": {},
          "execution_count": 4
        }
      ]
    },
    {
      "cell_type": "code",
      "source": [
        "# Задача 9\n",
        "from functools import reduce\n",
        "\n",
        "num_list = [1, 72, 99, 7888, 1]\n",
        "\n",
        "def parity(arr):\n",
        "\n",
        "  num = reduce(lambda x, y: x + y, arr, 0)\n",
        "\n",
        "  if num % 2 == 0:\n",
        "    return f\"{num} чётное\"\n",
        "  else:\n",
        "    return f\"{num} нечётное\"\n",
        "\n",
        "parity(num_list)"
      ],
      "metadata": {
        "colab": {
          "base_uri": "https://localhost:8080/",
          "height": 36
        },
        "id": "5iY4UU6q1QCo",
        "outputId": "6a9d695b-fb5b-4faa-a0e8-61d3318b69cf"
      },
      "execution_count": 8,
      "outputs": [
        {
          "output_type": "execute_result",
          "data": {
            "text/plain": [
              "'8061 нечётное'"
            ],
            "application/vnd.google.colaboratory.intrinsic+json": {
              "type": "string"
            }
          },
          "metadata": {},
          "execution_count": 8
        }
      ]
    },
    {
      "cell_type": "code",
      "source": [
        "# Задача про матрицы\n",
        "def matrix_func(size):\n",
        "\n",
        "  counter = 10\n",
        "  matrix = []\n",
        "\n",
        "  for i in range(size):\n",
        "\n",
        "    temp = []\n",
        "    matrix.append(temp)\n",
        "\n",
        "    for j in range(size):\n",
        "\n",
        "      temp.append(counter)\n",
        "      counter += 1\n",
        "\n",
        "  return matrix\n",
        "\n",
        "test = matrix_func(15)\n",
        "test"
      ],
      "metadata": {
        "colab": {
          "base_uri": "https://localhost:8080/"
        },
        "id": "2ZWLCWoqgGv7",
        "outputId": "e9346968-06a6-4a6f-895b-687229b1d85b"
      },
      "execution_count": 17,
      "outputs": [
        {
          "output_type": "execute_result",
          "data": {
            "text/plain": [
              "[[10, 11, 12, 13, 14, 15, 16, 17, 18, 19, 20, 21, 22, 23, 24],\n",
              " [25, 26, 27, 28, 29, 30, 31, 32, 33, 34, 35, 36, 37, 38, 39],\n",
              " [40, 41, 42, 43, 44, 45, 46, 47, 48, 49, 50, 51, 52, 53, 54],\n",
              " [55, 56, 57, 58, 59, 60, 61, 62, 63, 64, 65, 66, 67, 68, 69],\n",
              " [70, 71, 72, 73, 74, 75, 76, 77, 78, 79, 80, 81, 82, 83, 84],\n",
              " [85, 86, 87, 88, 89, 90, 91, 92, 93, 94, 95, 96, 97, 98, 99],\n",
              " [100, 101, 102, 103, 104, 105, 106, 107, 108, 109, 110, 111, 112, 113, 114],\n",
              " [115, 116, 117, 118, 119, 120, 121, 122, 123, 124, 125, 126, 127, 128, 129],\n",
              " [130, 131, 132, 133, 134, 135, 136, 137, 138, 139, 140, 141, 142, 143, 144],\n",
              " [145, 146, 147, 148, 149, 150, 151, 152, 153, 154, 155, 156, 157, 158, 159],\n",
              " [160, 161, 162, 163, 164, 165, 166, 167, 168, 169, 170, 171, 172, 173, 174],\n",
              " [175, 176, 177, 178, 179, 180, 181, 182, 183, 184, 185, 186, 187, 188, 189],\n",
              " [190, 191, 192, 193, 194, 195, 196, 197, 198, 199, 200, 201, 202, 203, 204],\n",
              " [205, 206, 207, 208, 209, 210, 211, 212, 213, 214, 215, 216, 217, 218, 219],\n",
              " [220, 221, 222, 223, 224, 225, 226, 227, 228, 229, 230, 231, 232, 233, 234]]"
            ]
          },
          "metadata": {},
          "execution_count": 17
        }
      ]
    },
    {
      "cell_type": "code",
      "source": [
        "# Продолжение\n",
        "from functools import reduce\n",
        "\n",
        "def hourglass_func(matrix):\n",
        "\n",
        "  size = len(matrix)\n",
        "  first_part = []\n",
        "  second_part = []\n",
        "  size_list = []\n",
        "\n",
        "  for s in range(size):\n",
        "    size_list.append(s)\n",
        "\n",
        "  if size % 2 == 0:                        # Возвращает \"песочные часы\" для матриц чётной размерности\n",
        "\n",
        "    for i in size_list[: int(size / 2)]:\n",
        "\n",
        "      temp = matrix[i][i : size - i]\n",
        "      first_part.append(temp)\n",
        "\n",
        "    size_list.reverse()\n",
        "\n",
        "    for j in size_list[: int(size / 2)]:\n",
        "\n",
        "      temp = matrix[j][size - j - 1 : j + 1]\n",
        "      second_part.append(temp)\n",
        "\n",
        "    second_part.reverse()\n",
        "\n",
        "    hourglass = first_part + second_part\n",
        "\n",
        "  else:                                    # Возвращает \"песочные часы\" для матриц чётной размерности\n",
        "\n",
        "    for i in size_list[: int(size / 2)+1]:\n",
        "\n",
        "      temp = matrix[i][i : size - i]\n",
        "      first_part.append(temp)\n",
        "\n",
        "    size_list.reverse()\n",
        "\n",
        "    for j in size_list[: int(size / 2)]:\n",
        "\n",
        "      temp = matrix[j][size - j - 1 : j + 1]\n",
        "      second_part.append(temp)\n",
        "\n",
        "    second_part.reverse()\n",
        "\n",
        "    hourglass = first_part + second_part\n",
        "\n",
        "  temp = reduce(lambda x, y: x + y, hourglass, [])\n",
        "  summa = reduce(lambda x,y: x + y, temp, 0)\n",
        "\n",
        "\n",
        "  return hourglass, summa\n",
        "\n",
        "hourglass_func(test)"
      ],
      "metadata": {
        "colab": {
          "base_uri": "https://localhost:8080/"
        },
        "id": "JuLYQYGBhtKS",
        "outputId": "955ed481-6ad4-4c10-c20a-55971672c3ee"
      },
      "execution_count": 20,
      "outputs": [
        {
          "output_type": "execute_result",
          "data": {
            "text/plain": [
              "([[10, 11, 12, 13, 14, 15, 16, 17, 18, 19, 20, 21, 22, 23, 24],\n",
              "  [26, 27, 28, 29, 30, 31, 32, 33, 34, 35, 36, 37, 38],\n",
              "  [42, 43, 44, 45, 46, 47, 48, 49, 50, 51, 52],\n",
              "  [58, 59, 60, 61, 62, 63, 64, 65, 66],\n",
              "  [74, 75, 76, 77, 78, 79, 80],\n",
              "  [90, 91, 92, 93, 94],\n",
              "  [106, 107, 108],\n",
              "  [122],\n",
              "  [136, 137, 138],\n",
              "  [150, 151, 152, 153, 154],\n",
              "  [164, 165, 166, 167, 168, 169, 170],\n",
              "  [178, 179, 180, 181, 182, 183, 184, 185, 186],\n",
              "  [192, 193, 194, 195, 196, 197, 198, 199, 200, 201, 202],\n",
              "  [206, 207, 208, 209, 210, 211, 212, 213, 214, 215, 216, 217, 218],\n",
              "  [220, 221, 222, 223, 224, 225, 226, 227, 228, 229, 230, 231, 232, 233, 234]],\n",
              " 15494)"
            ]
          },
          "metadata": {},
          "execution_count": 20
        }
      ]
    }
  ]
}