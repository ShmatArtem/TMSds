{
  "nbformat": 4,
  "nbformat_minor": 0,
  "metadata": {
    "colab": {
      "provenance": []
    },
    "kernelspec": {
      "name": "python3",
      "display_name": "Python 3"
    },
    "language_info": {
      "name": "python"
    }
  },
  "cells": [
    {
      "cell_type": "code",
      "execution_count": 37,
      "metadata": {
        "colab": {
          "base_uri": "https://localhost:8080/"
        },
        "id": "_Lbr-6SoOUx6",
        "outputId": "1a8a5e80-dfa1-4dab-9e14-d0bab7115068"
      },
      "outputs": [
        {
          "output_type": "execute_result",
          "data": {
            "text/plain": [
              "3.7230820101533415"
            ]
          },
          "metadata": {},
          "execution_count": 37
        }
      ],
      "source": [
        "# Задание 1\n",
        "import math\n",
        "\n",
        "x = 1.79\n",
        "\n",
        "y = (math.cos(math.e ** x) + math.log((1+x) ** 2, math.e) + (math.e ** math.cos(x) + math.sin(math.pi * x) ** 2) ** (1/2) \\\n",
        "+ (1/x) ** (1/2) + math.cos(x ** 2)) ** math.sin(x)\n",
        "\n",
        "y"
      ]
    },
    {
      "cell_type": "code",
      "source": [
        "# Задание 2\n",
        "str1 = input(\"Подстрока: \")\n",
        "str2 = input(\"Строка: \")\n",
        "\n",
        "def search_substr(substr, string):\n",
        "  if substr.lower() in string.lower():\n",
        "    print(\"Есть контакт!\")\n",
        "  else:\n",
        "    print('Мимо!')\n",
        "\n",
        "search_substr(str1, str2)"
      ],
      "metadata": {
        "colab": {
          "base_uri": "https://localhost:8080/"
        },
        "id": "CkZWfgW2WE8S",
        "outputId": "dfa267e9-845f-4ee3-b979-5e221cf56596"
      },
      "execution_count": 49,
      "outputs": [
        {
          "output_type": "stream",
          "name": "stdout",
          "text": [
            "Подстрока: WoRld\n",
            "Строка: Hello, world!\n",
            "Есть контакт!\n"
          ]
        }
      ]
    },
    {
      "cell_type": "code",
      "source": [
        "# Задание 3\n",
        "import collections\n",
        "\n",
        "str_test = input('Введите строку: ')\n",
        "\n",
        "def count_func(string):\n",
        "  top_all = collections.Counter(string.replace(' ', '')).most_common()\n",
        "  if len(top_all) == 2:\n",
        "    print(f\"\"\"Первое место: {top_all[0]}\n",
        "Второе место: {top_all[1]}\"\"\")\n",
        "  elif len(top_all) == 1:\n",
        "    print(f\"\"\"Первое и единственное место: {top_all[0]}\"\"\")\n",
        "  elif len(string) == 0:\n",
        "    print('Введена пустая строка!')\n",
        "  elif len(top_all) == 0:\n",
        "    print('Попробуйте ввсети что-нибудь, кроме пробелов!')\n",
        "  else:\n",
        "    third = top_all[2][1]\n",
        "    top_3 = top_all[:3]\n",
        "    for tupl in top_all[3:]:\n",
        "      if tupl[1] == third:\n",
        "        top_3.append(tupl)\n",
        "    if len(top_3) == 3:\n",
        "      print(f\"\"\"Первое место: {top_3[0]}\n",
        "Второе место: {top_3[1]}\n",
        "Третье место: {top_3[2]}\"\"\")\n",
        "    else:\n",
        "      print(f\"\"\"Первое место: {top_3[0]}\n",
        "Второе место: {top_3[1]}\n",
        "Третье место: {top_3[2:]}\"\"\")\n",
        "\n",
        "count_func(str_test)"
      ],
      "metadata": {
        "colab": {
          "base_uri": "https://localhost:8080/"
        },
        "id": "uWd0dyVOt2b0",
        "outputId": "6a013ec5-45dd-4ebe-ccec-da4de113d129"
      },
      "execution_count": 39,
      "outputs": [
        {
          "output_type": "stream",
          "name": "stdout",
          "text": [
            "Введите строку: На основании строки определить 3 наиболее часто встречаемых символа в ней. Пробелы нужно игнорировать (не учитывать при подсчете). Для простоты подсчета количества вхождений символов удобно использовать Counter из модуля collections.\n",
            "Первое место: ('о', 24)\n",
            "Второе место: ('и', 15)\n",
            "Третье место: ('е', 14)\n"
          ]
        }
      ]
    },
    {
      "cell_type": "code",
      "source": [
        "# Задание 4\n",
        "import collections\n",
        "\n",
        "str_test = '65165163203206849849651631549878462134568794615328456201497532168496153896531358496512321864132168498412319879879565'\n",
        "\n",
        "def count_it(seq):\n",
        "  top_all = dict(collections.Counter(seq).most_common())\n",
        "  keys = list(top_all.keys())[:3]\n",
        "  top_3 = {}\n",
        "\n",
        "  for key in keys:\n",
        "    top_3[key] = top_all[key]\n",
        "\n",
        "  values = list(top_all.values())\n",
        "  third = values[2]\n",
        "\n",
        "  for key, value in top_all.items():\n",
        "    if value == third:\n",
        "      top_3[key] = value\n",
        "\n",
        "  print(top_3)\n",
        "\n",
        "\n",
        "count_it(str_test)"
      ],
      "metadata": {
        "colab": {
          "base_uri": "https://localhost:8080/"
        },
        "id": "pWRNmlPAX7EW",
        "outputId": "a4f8e868-0d2c-454e-c4ec-0d17a40b37b1"
      },
      "execution_count": 100,
      "outputs": [
        {
          "output_type": "stream",
          "name": "stdout",
          "text": [
            "{'6': 17, '1': 16, '5': 14, '8': 14}\n"
          ]
        }
      ]
    },
    {
      "cell_type": "code",
      "source": [
        "# Задача 5 (ферзь)\n",
        "a = int(input(\"Координата а для вашей фигуры: \"))\n",
        "b = int(input(\"Координата b для вашей фигуры: \"))\n",
        "c = int(input(\"Координата c для фигуры соперника: \"))\n",
        "d = int(input(\"Координата d для фигуры соперника: \"))\n",
        "\n",
        "black_u = [a, b]\n",
        "white_op = [c, d]\n",
        "\n",
        "def chess_func(black, white):\n",
        "  cells = [1,2,3,4,5,6,7,8]\n",
        "  warn_var = \"Под боем!\"\n",
        "  ok_var = \"Всё в порядке!\"\n",
        "\n",
        "  for cell in cells:\n",
        "    if [white[0], cell] == black or [cell, white[0]] == black or \\\n",
        "    [white[0] + cell, white[1] + cell] == black or [white[0] - cell, white[1] - cell] == black or \\\n",
        "    [white[0] + cell, white[1] - cell] == black or [white[0] - cell, white[1] + cell] == black:\n",
        "        return warn_var\n",
        "  else:\n",
        "      return ok_var\n",
        "\n",
        "chess_func(black_u, white_op)"
      ],
      "metadata": {
        "colab": {
          "base_uri": "https://localhost:8080/",
          "height": 104
        },
        "id": "aYJ1VU5jKL05",
        "outputId": "50986cda-08dd-479b-d1c6-1d8a8473ef03"
      },
      "execution_count": 21,
      "outputs": [
        {
          "name": "stdout",
          "output_type": "stream",
          "text": [
            "Координата а для вашей фигуры: 7\n",
            "Координата b для вашей фигуры: 3\n",
            "Координата c для фигуры соперника: 6\n",
            "Координата d для фигуры соперника: 1\n"
          ]
        },
        {
          "output_type": "execute_result",
          "data": {
            "text/plain": [
              "'Всё в порядке!'"
            ],
            "application/vnd.google.colaboratory.intrinsic+json": {
              "type": "string"
            }
          },
          "metadata": {},
          "execution_count": 21
        }
      ]
    },
    {
      "cell_type": "code",
      "source": [
        "# Задача 5 (конь)\n",
        "a = int(input(\"Координата а для вашей фигуры: \"))\n",
        "b = int(input(\"Координата b для вашей фигуры: \"))\n",
        "c = int(input(\"Координата c для фигуры соперника: \"))\n",
        "d = int(input(\"Координата d для фигуры соперника: \"))\n",
        "\n",
        "black_u = [a, b]\n",
        "white_op = [c, d]\n",
        "\n",
        "def chess_func(black, white):\n",
        "  warn_var = \"Под боем!\"\n",
        "  ok_var = \"Всё в порядке!\"\n",
        "\n",
        "  if [white[0] - 2, white[1] - 1] == black or [white[0] - 2, white[1] + 1] == black or \\\n",
        "  [white[0] - 1, white[1] + 2] == black or [white[0] + 1, white[1] + 2] == black or \\\n",
        "  [white[0] + 2, white[1] + 1] == black or [white[0] + 2, white[1] - 1] == black or \\\n",
        "  [white[0] - 1, white[1] - 2] == black or [white[0] + 1, white[1] - 2] == black:\n",
        "        return warn_var\n",
        "  else:\n",
        "      return ok_var\n",
        "\n",
        "chess_func(black_u, white_op)"
      ],
      "metadata": {
        "colab": {
          "base_uri": "https://localhost:8080/",
          "height": 104
        },
        "id": "-mkE-PcoVXC7",
        "outputId": "92be1eda-b7a2-40f1-e83c-3dd9b92a6fd7"
      },
      "execution_count": 92,
      "outputs": [
        {
          "name": "stdout",
          "output_type": "stream",
          "text": [
            "Координата а для вашей фигуры: 4\n",
            "Координата b для вашей фигуры: 4\n",
            "Координата c для фигуры соперника: 5\n",
            "Координата d для фигуры соперника: 6\n"
          ]
        },
        {
          "output_type": "execute_result",
          "data": {
            "text/plain": [
              "'Под боем!'"
            ],
            "application/vnd.google.colaboratory.intrinsic+json": {
              "type": "string"
            }
          },
          "metadata": {},
          "execution_count": 92
        }
      ]
    },
    {
      "cell_type": "code",
      "source": [
        "# Задача 5 (c ходом) - пока работает некоректно\n",
        "a = int(input(\"Координата а для вашей фигуры: \"))\n",
        "b = int(input(\"Координата b для вашей фигуры: \"))\n",
        "c = int(input(\"Координата c для фигуры соперника: \"))\n",
        "d = int(input(\"Координата d для фигуры соперника: \"))\n",
        "\n",
        "black_u = [a, b]\n",
        "white_op = [c, d]\n",
        "warn_var = \"Шах!\"\n",
        "miss_var = \"Мимо!\"\n",
        "cells = []\n",
        "\n",
        "def chess_func(black, white):\n",
        "  if [white[0] - 2, white[1] - 1] == black or [white[0] - 2, white[1] + 1] == black or \\\n",
        "  [white[0] - 1, white[1] + 2] == black or [white[0] + 1, white[1] + 2] == black or \\\n",
        "  [white[0] + 2, white[1] + 1] == black or [white[0] + 2, white[1] - 1] == black or \\\n",
        "  [white[0] - 1, white[1] - 2] == black or [white[0] + 1, white[1] - 2] == black:\n",
        "    return warn_var\n",
        "\n",
        "def chess_func_adv(black, white):\n",
        "    if chess_func(black, white) == warn_var:\n",
        "      return warn_var\n",
        "    else:\n",
        "      cells.append([white[0] - 2, white[1] - 1])\n",
        "      cells.append([white[0] - 2, white[1] + 1])\n",
        "      cells.append([white[0] - 1, white[1] + 2])\n",
        "      cells.append([white[0] + 1, white[1] + 2])\n",
        "      cells.append([white[0] + 2, white[1] + 1])\n",
        "      cells.append([white[0] + 2, white[1] - 1])\n",
        "      cells.append([white[0] - 1, white[1] - 2])\n",
        "      cells.append([white[0] + 1, white[1] - 2])\n",
        "\n",
        "      for cell in cells:\n",
        "        if chess_func(black, cell) == warn_var:\n",
        "          return warn_var\n",
        "      else:\n",
        "          return miss_var\n",
        "\n",
        "\n",
        "\n",
        "\n",
        "chess_func(black_op, white_u)\n"
      ],
      "metadata": {
        "colab": {
          "base_uri": "https://localhost:8080/"
        },
        "id": "tehMtMD0qHij",
        "outputId": "59be8089-55e2-4981-ba40-7f4e7fe33d20"
      },
      "execution_count": 91,
      "outputs": [
        {
          "name": "stdout",
          "output_type": "stream",
          "text": [
            "Координата а для вашей фигуры: 4\n",
            "Координата b для вашей фигуры: 4\n",
            "Координата c для фигуры соперника: 3\n",
            "Координата d для фигуры соперника: 3\n"
          ]
        }
      ]
    }
  ]
}